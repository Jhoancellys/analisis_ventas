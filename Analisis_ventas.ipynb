{
 "cells": [
  {
   "cell_type": "markdown",
   "id": "9cad091f-dee5-47dc-8d84-c18a71fe07b0",
   "metadata": {},
   "source": [
    "**Análisis de Ventas de Clientes**"
   ]
  },
  {
   "cell_type": "markdown",
   "id": "d4077fe2-c769-4ae9-8874-54e34e9d66be",
   "metadata": {},
   "source": [
    "**Introducción**"
   ]
  },
  {
   "cell_type": "markdown",
   "id": "3018f8fd-373a-4ac6-918f-de1ec8eb44c3",
   "metadata": {},
   "source": [
    "En este proyecto, se realizará un análisis de las tendencias de ventas a lo largo del tiempo para identificar patrones y proporcionar recomendaciones."
   ]
  },
  {
   "cell_type": "markdown",
   "id": "8cb8e01b-177a-41fd-8d28-5bbb05630e53",
   "metadata": {},
   "source": [
    "**Objetivo**"
   ]
  },
  {
   "cell_type": "markdown",
   "id": "2c03c4ea-75c5-4490-80b4-c735567adefe",
   "metadata": {},
   "source": [
    "Evaluar las tendencias de ventas a lo largo del tiempo y proporcionar recomendaciones para mejorar las ventas"
   ]
  },
  {
   "cell_type": "markdown",
   "id": "99694c75-7345-4f75-8f77-e42598db37ca",
   "metadata": {},
   "source": [
    "**Análisis de Datos**"
   ]
  },
  {
   "cell_type": "markdown",
   "id": "218e1c56-02f7-4163-957b-33397ef5baf7",
   "metadata": {},
   "source": [
    "A continuación, cargaremos y analizaremos los datos."
   ]
  },
  {
   "cell_type": "code",
   "execution_count": 2,
   "id": "156ba45f-5295-4d8a-bd67-64c66cd8474e",
   "metadata": {},
   "outputs": [
    {
     "name": "stdout",
     "output_type": "stream",
     "text": [
      "   Customer ID        Purchase Date Product Category  Product Price  Quantity  \\\n",
      "0        44605  2023-05-03 21:30:02             Home            177         1   \n",
      "1        44605  2021-05-16 13:57:44      Electronics            174         3   \n",
      "2        44605  2020-07-13 06:16:57            Books            413         1   \n",
      "3        44605  2023-01-17 13:14:36      Electronics            396         3   \n",
      "4        44605  2021-05-01 11:29:27            Books            259         4   \n",
      "\n",
      "   Total Purchase Amount Payment Method  Customer Age  Returns Customer Name  \\\n",
      "0                   2427         PayPal            31      1.0   John Rivera   \n",
      "1                   2448         PayPal            31      1.0   John Rivera   \n",
      "2                   2345    Credit Card            31      1.0   John Rivera   \n",
      "3                    937           Cash            31      0.0   John Rivera   \n",
      "4                   2598         PayPal            31      1.0   John Rivera   \n",
      "\n",
      "   Age  Gender  Churn  \n",
      "0   31  Female      0  \n",
      "1   31  Female      0  \n",
      "2   31  Female      0  \n",
      "3   31  Female      0  \n",
      "4   31  Female      0  \n"
     ]
    }
   ],
   "source": [
    "import pandas as pd\n",
    "\n",
    "# Cargar el dataset\n",
    "df = pd.read_csv(\"C:\\\\Users\\\\Hp\\\\Downloads\\\\archive (2)\\\\ecommerce_customer_data_large.csv\")\n",
    "\n",
    "# Explorar los primeros datos\n",
    "print(df.head())"
   ]
  },
  {
   "cell_type": "code",
   "execution_count": 3,
   "id": "d48af294-fed5-46a4-b721-1d98eab91c15",
   "metadata": {},
   "outputs": [],
   "source": [
    "# Eliminar valores nulos\n",
    "df.dropna(inplace=True)"
   ]
  },
  {
   "cell_type": "code",
   "execution_count": 4,
   "id": "349aae2e-5b66-4b78-8bc0-573196c761d0",
   "metadata": {},
   "outputs": [],
   "source": [
    "# Convertir la columna 'Purchase Date' a formato datetime\n",
    "df['Purchase Date'] = pd.to_datetime(df['Purchase Date'])"
   ]
  },
  {
   "cell_type": "code",
   "execution_count": 5,
   "id": "6eb2d69b-9b28-48cc-bd4c-a4e00d82d1bb",
   "metadata": {},
   "outputs": [
    {
     "name": "stdout",
     "output_type": "stream",
     "text": [
      "<class 'pandas.core.frame.DataFrame'>\n",
      "Index: 202618 entries, 0 to 249999\n",
      "Data columns (total 13 columns):\n",
      " #   Column                 Non-Null Count   Dtype         \n",
      "---  ------                 --------------   -----         \n",
      " 0   Customer ID            202618 non-null  int64         \n",
      " 1   Purchase Date          202618 non-null  datetime64[ns]\n",
      " 2   Product Category       202618 non-null  object        \n",
      " 3   Product Price          202618 non-null  int64         \n",
      " 4   Quantity               202618 non-null  int64         \n",
      " 5   Total Purchase Amount  202618 non-null  int64         \n",
      " 6   Payment Method         202618 non-null  object        \n",
      " 7   Customer Age           202618 non-null  int64         \n",
      " 8   Returns                202618 non-null  float64       \n",
      " 9   Customer Name          202618 non-null  object        \n",
      " 10  Age                    202618 non-null  int64         \n",
      " 11  Gender                 202618 non-null  object        \n",
      " 12  Churn                  202618 non-null  int64         \n",
      "dtypes: datetime64[ns](1), float64(1), int64(7), object(4)\n",
      "memory usage: 21.6+ MB\n",
      "None\n",
      "Customer ID              0\n",
      "Purchase Date            0\n",
      "Product Category         0\n",
      "Product Price            0\n",
      "Quantity                 0\n",
      "Total Purchase Amount    0\n",
      "Payment Method           0\n",
      "Customer Age             0\n",
      "Returns                  0\n",
      "Customer Name            0\n",
      "Age                      0\n",
      "Gender                   0\n",
      "Churn                    0\n",
      "dtype: int64\n"
     ]
    }
   ],
   "source": [
    "# Mostrar la información del DataFrame\n",
    "print(df.info())\n",
    "\n",
    "# Verificar si hay valores nulos en el DataFrame\n",
    "print(df.isnull().sum())\n"
   ]
  },
  {
   "cell_type": "code",
   "execution_count": 14,
   "id": "57a9d6ee-0b16-41b1-b684-024a817616e0",
   "metadata": {},
   "outputs": [
    {
     "name": "stdout",
     "output_type": "stream",
     "text": [
      "Product Category\n",
      "Books          137145086\n",
      "Clothing       138363540\n",
      "Electronics    137884886\n",
      "Home           138906211\n",
      "Name: Total Purchase Amount, dtype: int64\n"
     ]
    }
   ],
   "source": [
    "# Ventas totales por categoría de producto\n",
    "ventas_por_categoria = df.groupby('Product Category')['Total Purchase Amount'].sum()\n",
    "print(ventas_por_categoria)"
   ]
  },
  {
   "cell_type": "code",
   "execution_count": 7,
   "id": "d62ea573-83bb-44b3-83ea-fbcda9f73f35",
   "metadata": {},
   "outputs": [
    {
     "name": "stdout",
     "output_type": "stream",
     "text": [
      "Purchase Date\n",
      "2020-01    12567493\n",
      "2020-02    11821574\n",
      "2020-03    12556688\n",
      "2020-04    12257415\n",
      "2020-05    12664133\n",
      "2020-06    12242023\n",
      "2020-07    12456787\n",
      "2020-08    13003738\n",
      "2020-09    12281744\n",
      "2020-10    12979568\n",
      "2020-11    12449689\n",
      "2020-12    12654907\n",
      "2021-01    12450628\n",
      "2021-02    11549281\n",
      "2021-03    12419725\n",
      "2021-04    12136608\n",
      "2021-05    12783968\n",
      "2021-06    12198008\n",
      "2021-07    12702344\n",
      "2021-08    12940243\n",
      "2021-09    12106899\n",
      "2021-10    12719307\n",
      "2021-11    11908382\n",
      "2021-12    12874811\n",
      "2022-01    12425151\n",
      "2022-02    11356543\n",
      "2022-03    12655529\n",
      "2022-04    12408079\n",
      "2022-05    12789281\n",
      "2022-06    12391640\n",
      "2022-07    12978383\n",
      "2022-08    12408057\n",
      "2022-09    11953676\n",
      "2022-10    12515257\n",
      "2022-11    12736711\n",
      "2022-12    12842762\n",
      "2023-01    12852547\n",
      "2023-02    11253093\n",
      "2023-03    12785808\n",
      "2023-04    12194799\n",
      "2023-05    12718016\n",
      "2023-06    12103066\n",
      "2023-07    12298681\n",
      "2023-08    12639422\n",
      "2023-09     5267259\n",
      "Freq: M, Name: Total Purchase Amount, dtype: int64\n"
     ]
    }
   ],
   "source": [
    "# Agrupar por mes y sumar las ventas\n",
    "ventas_por_mes = df.groupby(df['Purchase Date'].dt.to_period('M'))['Total Purchase Amount'].sum()\n",
    "print(ventas_por_mes)"
   ]
  },
  {
   "cell_type": "code",
   "execution_count": 8,
   "id": "df243ab1-6995-46d9-8dbb-204d6ec56759",
   "metadata": {},
   "outputs": [
    {
     "name": "stdout",
     "output_type": "stream",
     "text": [
      "Customer ID\n",
      "13805    43948\n",
      "32869    43499\n",
      "41829    43093\n",
      "6633     43084\n",
      "24051    42918\n",
      "39717    42280\n",
      "25102    41444\n",
      "44509    41221\n",
      "12095    41061\n",
      "13400    40654\n",
      "Name: Total Purchase Amount, dtype: int64\n"
     ]
    }
   ],
   "source": [
    "# Clientes que más compran\n",
    "clientes_mayor_gasto = df.groupby('Customer ID')['Total Purchase Amount'].sum().sort_values(ascending=False).head(10)\n",
    "print(clientes_mayor_gasto)"
   ]
  },
  {
   "cell_type": "code",
   "execution_count": 9,
   "id": "21109a0a-ac38-42bc-a8e4-5b8f1c4d8bb6",
   "metadata": {},
   "outputs": [
    {
     "name": "stdout",
     "output_type": "stream",
     "text": [
      "Payment Method\n",
      "PayPal         67811\n",
      "Credit Card    67517\n",
      "Cash           67290\n",
      "Name: count, dtype: int64\n"
     ]
    }
   ],
   "source": [
    "# Método de pago más utilizado\n",
    "metodos_pago = df['Payment Method'].value_counts()\n",
    "print(metodos_pago)"
   ]
  },
  {
   "cell_type": "code",
   "execution_count": 10,
   "id": "64188a52-ccc9-48dd-82ee-2c37ca953efb",
   "metadata": {},
   "outputs": [
    {
     "name": "stdout",
     "output_type": "stream",
     "text": [
      "Customer ID\n",
      "28703    10.0\n",
      "24051    10.0\n",
      "12667     9.0\n",
      "41829     9.0\n",
      "46689     9.0\n",
      "         ... \n",
      "9044      0.0\n",
      "9035      0.0\n",
      "44257     0.0\n",
      "44255     0.0\n",
      "9058      0.0\n",
      "Name: Returns, Length: 49146, dtype: float64\n"
     ]
    }
   ],
   "source": [
    "# Devoluciones por cliente\n",
    "devoluciones_por_cliente = df.groupby('Customer ID')['Returns'].sum().sort_values(ascending=False)\n",
    "print(devoluciones_por_cliente)"
   ]
  },
  {
   "cell_type": "code",
   "execution_count": 16,
   "id": "7ee37432-5ccf-4f69-8060-7453af193007",
   "metadata": {},
   "outputs": [
    {
     "name": "stdout",
     "output_type": "stream",
     "text": [
      "El producto más vendido es: Clothing con 153372 unidades vendidas.\n"
     ]
    }
   ],
   "source": [
    "# Agrupar por 'Product Category' y sumar las cantidades vendidas\n",
    "ventas_por_producto = df.groupby('Product Category')['Quantity'].sum()\n",
    "\n",
    "# Encontrar el producto más vendido\n",
    "producto_mas_vendido = ventas_por_producto.idxmax()  # Nombre del producto\n",
    "cantidad_mas_vendida = ventas_por_producto.max()      # Cantidad total vendida\n",
    "\n",
    "# Mostrar el resultado\n",
    "print(f\"El producto más vendido es: {producto_mas_vendido} con {cantidad_mas_vendida} unidades vendidas.\")"
   ]
  },
  {
   "cell_type": "markdown",
   "id": "dc64b720-a016-4e96-805a-5817a77ef18c",
   "metadata": {},
   "source": [
    "**Visualización**"
   ]
  },
  {
   "cell_type": "markdown",
   "id": "0baf9056-4ad2-458f-88b6-3cc70361e50d",
   "metadata": {},
   "source": [
    "**Ventas por Mes**"
   ]
  },
  {
   "cell_type": "code",
   "execution_count": 12,
   "id": "382ec3e3-da00-47d7-aaed-98c152650e17",
   "metadata": {},
   "outputs": [
    {
     "data": {
      "image/png": "[encoded data removed]",
      "text/plain": [
       "<Figure size 640x480 with 1 Axes>"
      ]
     },
     "metadata": {},
     "output_type": "display_data"
    }
   ],
   "source": [
    "import matplotlib.pyplot as plt\n",
    "\n",
    "ventas_por_mes.plot(kind='line')\n",
    "plt.title('Ventas por mes')\n",
    "plt.xlabel('Mes')\n",
    "plt.ylabel('Total de ventas')\n",
    "plt.grid(True)\n",
    "plt.show()"
   ]
  },
  {
   "cell_type": "markdown",
   "id": "91bb7d86-2bd0-4be0-8d87-181b0ed9599f",
   "metadata": {},
   "source": [
    "**Conclusiones**"
   ]
  },
  {
   "cell_type": "markdown",
   "id": "8526732a-6249-4773-a7f9-94a463f608bb",
   "metadata": {},
   "source": [
    "Se observó una caída en las ventas a partir de julio de 2023.\n",
    "- Posibles factores:\n",
    "   1. Factores estacionales.\n",
    "   2. Cambios en el comportamiento del consumidor.\n",
    "   3. Competencia aumentada."
   ]
  },
  {
   "cell_type": "markdown",
   "id": "e2ea7728-7fc7-4c52-8309-0a887e6cdf67",
   "metadata": {},
   "source": [
    "**Recomendaciones**"
   ]
  },
  {
   "cell_type": "markdown",
   "id": "6377feba-e642-4049-babd-03fd37bdf1f2",
   "metadata": {},
   "source": [
    "1. Implementar promociones y descuentos.\n",
    "2. Realizar investigación de mercado.\n",
    "3. Mejorar estrategias de marketing."
   ]
  },
  {
   "cell_type": "code",
   "execution_count": null,
   "id": "998f2dfa-d3ad-4a86-b143-886a080ac517",
   "metadata": {},
   "outputs": [],
   "source": []
  }
 ],
 "metadata": {
  "kernelspec": {
   "display_name": "Python 3 (ipykernel)",
   "language": "python",
   "name": "python3"
  },
  "language_info": {
   "codemirror_mode": {
    "name": "ipython",
    "version": 3
   },
   "file_extension": ".py",
   "mimetype": "text/x-python",
   "name": "python",
   "nbconvert_exporter": "python",
   "pygments_lexer": "ipython3",
   "version": "3.12.0"
  }
 },
 "nbformat": 4,
 "nbformat_minor": 5
}
